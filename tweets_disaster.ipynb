{
 "cells": [
  {
   "cell_type": "code",
   "execution_count": 79,
   "metadata": {},
   "outputs": [],
   "source": [
    "import numpy as np\n",
    "import pandas as pd\n",
    "import re"
   ]
  },
  {
   "cell_type": "code",
   "execution_count": 80,
   "metadata": {},
   "outputs": [],
   "source": [
    "train = pd.read_csv(\"/Users/zhansaya/Downloads/nlp-getting-started/train.csv\")\n",
    "test = pd.read_csv(\"/Users/zhansaya/Downloads/nlp-getting-started/test.csv\")"
   ]
  },
  {
   "cell_type": "markdown",
   "metadata": {},
   "source": [
    "Text cleaning"
   ]
  },
  {
   "cell_type": "code",
   "execution_count": 81,
   "metadata": {},
   "outputs": [],
   "source": [
    "def clearText(text):\n",
    "    # to lower\n",
    "    text = text.lower()\n",
    "    # remove URLs\n",
    "    text = re.sub('https?://[A-Za-z0-9./?&=_]+','',text)\n",
    "    # hashtags\n",
    "    text = re.sub('#[A-Za-z0-9]+','',text)\n",
    "    # mentions\n",
    "    text = re.sub('@[A-Za-z0-9._-]+','',text)\n",
    "    # pontuation\n",
    "    text = re.sub(r\"[^\\w\\s]\",\"\",text)\n",
    "    # whitespaces\n",
    "    text = re.sub(r'\\s+', ' ', text).strip()\n",
    "    # words in sqare brackets\n",
    "    text = re.sub('\\[.*?\\]', '', text)\n",
    "    # words containing numbers\n",
    "    text = re.sub('\\w*\\d\\w*', '', text)\n",
    "    \n",
    "    return text"
   ]
  },
  {
   "cell_type": "code",
   "execution_count": 82,
   "metadata": {},
   "outputs": [],
   "source": [
    "train['text'] = train['text'].apply(lambda x:clearText(x))"
   ]
  },
  {
   "cell_type": "code",
   "execution_count": 83,
   "metadata": {},
   "outputs": [],
   "source": [
    "# removing stopwords\n",
    "import nltk\n",
    "from nltk.corpus import stopwords\n",
    "sw=stopwords.words('english')\n",
    "train['text'] = train['text'].apply(lambda x: ' '.join([word for word in x.split() if word not in (sw)]))"
   ]
  },
  {
   "cell_type": "markdown",
   "metadata": {},
   "source": [
    "Text Exploration"
   ]
  },
  {
   "cell_type": "code",
   "execution_count": 84,
   "metadata": {},
   "outputs": [],
   "source": [
    "def mydict(check):\n",
    "    check = check.str.extractall('([a-zA_Z]+)')\n",
    "    check.columns = ['check']\n",
    "    b = check.reset_index(drop=True)\n",
    "    check = b['check'].value_counts()\n",
    "\n",
    "    mydict = {'word':check.index,'freq':check.values}\n",
    "    mydict = pd.DataFrame(mydict)\n",
    "    mydict.index = mydict['word']\n",
    "    mydict.drop('word', axis = 1, inplace = True)\n",
    "    mydict.sort_values('freq', ascending=False, inplace=True)\n",
    "    \n",
    "    return mydict"
   ]
  },
  {
   "cell_type": "code",
   "execution_count": 85,
   "metadata": {},
   "outputs": [
    {
     "data": {
      "image/png": "[encoded data removed]",
      "text/plain": [
       "<Figure size 720x720 with 1 Axes>"
      ]
     },
     "metadata": {
      "needs_background": "light"
     },
     "output_type": "display_data"
    }
   ],
   "source": [
    "import matplotlib.pyplot as plt\n",
    "import seaborn as sns\n",
    "mydict_unclean = mydict(train['text'])\n",
    "\n",
    "sns.set_context(context = 'notebook', font_scale = 1.6)\n",
    "mydict_unclean[:20].plot(kind = 'barh', figsize = (10, 10));"
   ]
  },
  {
   "cell_type": "markdown",
   "metadata": {},
   "source": [
    "Data Spliting"
   ]
  },
  {
   "cell_type": "code",
   "execution_count": 86,
   "metadata": {},
   "outputs": [],
   "source": [
    "from sklearn.model_selection import train_test_split\n",
    "from sklearn.feature_extraction.text import CountVectorizer\n",
    "from sklearn.metrics import  f1_score, classification_report"
   ]
  },
  {
   "cell_type": "code",
   "execution_count": 87,
   "metadata": {},
   "outputs": [],
   "source": [
    "X = train['text']\n",
    "y = train['target']\n",
    "X_train, X_test, y_train, y_test = train_test_split(X, y, stratify=y, random_state=0,test_size=0.15)"
   ]
  },
  {
   "cell_type": "code",
   "execution_count": 88,
   "metadata": {},
   "outputs": [],
   "source": [
    "vect = CountVectorizer().fit(X_train)\n",
    "X_train = vect.transform(X_train)\n",
    "X_test = vect.transform(X_test)"
   ]
  },
  {
   "cell_type": "markdown",
   "metadata": {},
   "source": [
    "Model selection"
   ]
  },
  {
   "cell_type": "markdown",
   "metadata": {},
   "source": [
    "Decision Tree Model\n",
    "Gradient Boosting Model\n",
    "K - Nearest Neighbors Model\n",
    "Logistic Regression Model\n",
    "Stochastic Gradient Descent Model\n",
    "Support Vector Machine Model\n",
    "Bernoulli Naive Bayes Model\n",
    "Gaussian Naive Bayes Model\n",
    "Multinomial Naive Bayes Model"
   ]
  },
  {
   "cell_type": "code",
   "execution_count": 122,
   "metadata": {},
   "outputs": [],
   "source": [
    "from sklearn.linear_model import LogisticRegression\n",
    "from sklearn.ensemble import RandomForestClassifier\n",
    "from sklearn.tree import  DecisionTreeClassifier\n",
    "from sklearn.neighbors import KNeighborsClassifier\n",
    "from sklearn.ensemble import GradientBoostingClassifier\n",
    "from sklearn.linear_model import LogisticRegression\n",
    "from sklearn.linear_model import SGDClassifier\n",
    "from sklearn.svm import SVC\n",
    "from sklearn.naive_bayes import BernoulliNB\n",
    "from sklearn.naive_bayes import GaussianNB\n",
    "from sklearn.naive_bayes import MultinomialNB\n",
    "from sklearn.svm import SVC\n"
   ]
  },
  {
   "cell_type": "code",
   "execution_count": 124,
   "metadata": {},
   "outputs": [],
   "source": [
    "# Define models\n",
    "knn = KNeighborsClassifier(n_neighbors = 7, weights = 'distance', algorithm = 'brute')\n",
    "tree = DecisionTreeClassifier(criterion= 'entropy', max_depth = None, splitter='best', random_state=0)\n",
    "logReression = LogisticRegression(penalty='l2', solver='saga', random_state = 55)  \n",
    "randomForest = RandomForestClassifier(random_state=0)\n",
    "gradientBoosting = GradientBoostingClassifier(loss = 'deviance', learning_rate = 0.01, n_estimators = 100, max_depth = 30, random_state=0)\n",
    "SGD = SGDClassifier(loss = 'hinge', penalty = 'l1', learning_rate = 'optimal', random_state = 0, max_iter=100)\n",
    "SVC = SVC(kernel= 'linear', degree=3, max_iter=10000, C=2, random_state = 0)\n",
    "bernoulliNBModel = BernoulliNB(alpha=0.1)\n",
    "multinomialNBModel = MultinomialNB(alpha=0.1)\n"
   ]
  },
  {
   "cell_type": "code",
   "execution_count": 126,
   "metadata": {},
   "outputs": [
    {
     "data": {
      "text/html": [
       "<div>\n",
       "<style scoped>\n",
       "    .dataframe tbody tr th:only-of-type {\n",
       "        vertical-align: middle;\n",
       "    }\n",
       "\n",
       "    .dataframe tbody tr th {\n",
       "        vertical-align: top;\n",
       "    }\n",
       "\n",
       "    .dataframe thead th {\n",
       "        text-align: right;\n",
       "    }\n",
       "</style>\n",
       "<table border=\"1\" class=\"dataframe\">\n",
       "  <thead>\n",
       "    <tr style=\"text-align: right;\">\n",
       "      <th></th>\n",
       "      <th>model</th>\n",
       "      <th>mean</th>\n",
       "      <th>std</th>\n",
       "    </tr>\n",
       "  </thead>\n",
       "  <tbody>\n",
       "    <tr>\n",
       "      <th>0</th>\n",
       "      <td>knn</td>\n",
       "      <td>0.605505</td>\n",
       "      <td>0.028327</td>\n",
       "    </tr>\n",
       "    <tr>\n",
       "      <th>1</th>\n",
       "      <td>tree</td>\n",
       "      <td>0.674871</td>\n",
       "      <td>0.011783</td>\n",
       "    </tr>\n",
       "    <tr>\n",
       "      <th>2</th>\n",
       "      <td>logReression</td>\n",
       "      <td>0.729791</td>\n",
       "      <td>0.016989</td>\n",
       "    </tr>\n",
       "    <tr>\n",
       "      <th>3</th>\n",
       "      <td>randomForest</td>\n",
       "      <td>0.685846</td>\n",
       "      <td>0.012784</td>\n",
       "    </tr>\n",
       "    <tr>\n",
       "      <th>4</th>\n",
       "      <td>gradientBoosting</td>\n",
       "      <td>0.615712</td>\n",
       "      <td>0.013550</td>\n",
       "    </tr>\n",
       "    <tr>\n",
       "      <th>5</th>\n",
       "      <td>SGD</td>\n",
       "      <td>0.698083</td>\n",
       "      <td>0.019040</td>\n",
       "    </tr>\n",
       "    <tr>\n",
       "      <th>6</th>\n",
       "      <td>SVC</td>\n",
       "      <td>0.701163</td>\n",
       "      <td>0.024999</td>\n",
       "    </tr>\n",
       "    <tr>\n",
       "      <th>7</th>\n",
       "      <td>bernoulliNBModel</td>\n",
       "      <td>0.719002</td>\n",
       "      <td>0.016745</td>\n",
       "    </tr>\n",
       "    <tr>\n",
       "      <th>8</th>\n",
       "      <td>multinomialNBModel</td>\n",
       "      <td>0.721177</td>\n",
       "      <td>0.015076</td>\n",
       "    </tr>\n",
       "  </tbody>\n",
       "</table>\n",
       "</div>"
      ],
      "text/plain": [
       "                model      mean       std\n",
       "0                 knn  0.605505  0.028327\n",
       "1                tree  0.674871  0.011783\n",
       "2        logReression  0.729791  0.016989\n",
       "3        randomForest  0.685846  0.012784\n",
       "4    gradientBoosting  0.615712  0.013550\n",
       "5                 SGD  0.698083  0.019040\n",
       "6                 SVC  0.701163  0.024999\n",
       "7    bernoulliNBModel  0.719002  0.016745\n",
       "8  multinomialNBModel  0.721177  0.015076"
      ]
     },
     "execution_count": 126,
     "metadata": {},
     "output_type": "execute_result"
    }
   ],
   "source": [
    "pd.DataFrame({\n",
    "    'model':['knn', 'tree', 'logReression', 'randomForest', 'gradientBoosting', 'SGD', 'SVC', 'bernoulliNBModel', 'multinomialNBModel'],\n",
    "    'mean':score_mean,\n",
    "    'std':score_std\n",
    "})"
   ]
  },
  {
   "cell_type": "markdown",
   "metadata": {},
   "source": [
    "Evolution"
   ]
  },
  {
   "cell_type": "code",
   "execution_count": 127,
   "metadata": {},
   "outputs": [
    {
     "name": "stdout",
     "output_type": "stream",
     "text": [
      "KNeighborsClassifier  Train Score is   :  0.7400710863854119\n",
      "KNeighborsClassifier  Test Score is    :  0.6103327495621717\n",
      "KNeighborsClassifier  F1 Score is      :  0.6419951729686243\n",
      "--------------------------------------------------------------------------\n",
      "DecisionTreeClassifier  Train Score is   :  0.985319116056251\n",
      "DecisionTreeClassifier  Test Score is    :  0.7556917688266199\n",
      "DecisionTreeClassifier  F1 Score is      :  0.7132579650565262\n",
      "--------------------------------------------------------------------------\n",
      "LogisticRegression  Train Score is   :  0.9422036779477669\n",
      "LogisticRegression  Test Score is    :  0.797723292469352\n",
      "LogisticRegression  F1 Score is      :  0.7480916030534351\n",
      "--------------------------------------------------------------------------\n"
     ]
    },
    {
     "name": "stderr",
     "output_type": "stream",
     "text": [
      "/usr/local/lib/python3.7/site-packages/sklearn/linear_model/sag.py:337: ConvergenceWarning: The max_iter was reached which means the coef_ did not converge\n",
      "  \"the coef_ did not converge\", ConvergenceWarning)\n",
      "/usr/local/lib/python3.7/site-packages/sklearn/ensemble/forest.py:245: FutureWarning: The default value of n_estimators will change from 10 in version 0.20 to 100 in 0.22.\n",
      "  \"10 in version 0.20 to 100 in 0.22.\", FutureWarning)\n"
     ]
    },
    {
     "name": "stdout",
     "output_type": "stream",
     "text": [
      "RandomForestClassifier  Train Score is   :  0.9706382321125019\n",
      "RandomForestClassifier  Test Score is    :  0.7705779334500875\n",
      "RandomForestClassifier  F1 Score is      :  0.721276595744681\n",
      "--------------------------------------------------------------------------\n",
      "GradientBoostingClassifier  Train Score is   :  0.8028125482923814\n",
      "GradientBoostingClassifier  Test Score is    :  0.7390542907180385\n",
      "GradientBoostingClassifier  F1 Score is      :  0.6139896373056993\n",
      "--------------------------------------------------------------------------\n",
      "SGDClassifier  Train Score is   :  0.9656930922577655\n",
      "SGDClassifier  Test Score is    :  0.7828371278458844\n",
      "SGDClassifier  F1 Score is      :  0.7405857740585774\n",
      "--------------------------------------------------------------------------\n"
     ]
    },
    {
     "name": "stderr",
     "output_type": "stream",
     "text": [
      "/usr/local/lib/python3.7/site-packages/sklearn/svm/base.py:241: ConvergenceWarning: Solver terminated early (max_iter=10000).  Consider pre-processing your data with StandardScaler or MinMaxScaler.\n",
      "  % self.max_iter, ConvergenceWarning)\n"
     ]
    },
    {
     "name": "stdout",
     "output_type": "stream",
     "text": [
      "SVC  Train Score is   :  0.9794467624787514\n",
      "SVC  Test Score is    :  0.776707530647986\n",
      "SVC  F1 Score is      :  0.7301587301587303\n",
      "--------------------------------------------------------------------------\n",
      "BernoulliNB  Train Score is   :  0.9364858599907279\n",
      "BernoulliNB  Test Score is    :  0.7985989492119089\n",
      "BernoulliNB  F1 Score is      :  0.7505422993492407\n",
      "--------------------------------------------------------------------------\n",
      "MultinomialNB  Train Score is   :  0.9350950394065832\n",
      "MultinomialNB  Test Score is    :  0.7933450087565674\n",
      "MultinomialNB  F1 Score is      :  0.747323340471092\n",
      "--------------------------------------------------------------------------\n"
     ]
    }
   ],
   "source": [
    "#evaluation Details\n",
    "models = [knn, tree, logReression, randomForest, gradientBoosting, SGD, SVC, bernoulliNBModel, multinomialNBModel]\n",
    "\n",
    "for model in models:\n",
    "    model.fit(X_train,y_train)\n",
    "    print(type(model).__name__,' Train Score is   : ' ,model.score(X_train, y_train))\n",
    "    print(type(model).__name__,' Test Score is    : ' ,model.score(X_test, y_test))\n",
    "    \n",
    "    y_pred = model.predict(X_test)\n",
    "    print(type(model).__name__,' F1 Score is      : ' ,f1_score(y_test,y_pred))\n",
    "    print('--------------------------------------------------------------------------')"
   ]
  },
  {
   "cell_type": "markdown",
   "metadata": {},
   "source": [
    "Model choice\n",
    "Log regression"
   ]
  }
 ],
 "metadata": {
  "kernelspec": {
   "display_name": "Python 3",
   "language": "python",
   "name": "python3"
  },
  "language_info": {
   "codemirror_mode": {
    "name": "ipython",
    "version": 3
   },
   "file_extension": ".py",
   "mimetype": "text/x-python",
   "name": "python",
   "nbconvert_exporter": "python",
   "pygments_lexer": "ipython3",
   "version": "3.7.4"
  }
 },
 "nbformat": 4,
 "nbformat_minor": 2
}
